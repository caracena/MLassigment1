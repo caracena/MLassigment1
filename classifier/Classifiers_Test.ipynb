{
 "cells": [
  {
   "cell_type": "code",
   "execution_count": 6,
   "metadata": {
    "collapsed": true
   },
   "outputs": [],
   "source": [
    "from sklearn.pipeline import Pipeline, FeatureUnion\n",
    "import sklearn.decomposition as decomposition\n",
    "from sklearn.decomposition import SparsePCA\n",
    "import sklearn.preprocessing as preprocessing\n",
    "from sklearn.feature_selection import SelectKBest\n",
    "import pandas as pd\n",
    "import sklearn.preprocessing as pp\n",
    "import numpy as np\n",
    "import sklearn.naive_bayes as naive_bayes\n",
    "import sklearn.cross_validation as cross_validation\n",
    "import Classifier as cnb\n",
    "from sklearn.metrics import accuracy_score"
   ]
  },
  {
   "cell_type": "markdown",
   "metadata": {},
   "source": [
    "# Loading the Data"
   ]
  },
  {
   "cell_type": "code",
   "execution_count": 24,
   "metadata": {
    "collapsed": false
   },
   "outputs": [],
   "source": [
    "X = pd.read_csv('../assignment1_2016S1/training_data.csv',header=None).sort_values(by=0).reset_index().ix[:,2:]\n",
    "y = pd.read_csv('../assignment1_2016S1/training_labels.csv',header=None).sort_values(by=0).reset_index().ix[:,2:]"
   ]
  },
  {
   "cell_type": "code",
   "execution_count": 27,
   "metadata": {
    "collapsed": false
   },
   "outputs": [],
   "source": [
    "X_scaled = X.applymap(lambda x: 1 if x > 0 else 0)"
   ]
  },
  {
   "cell_type": "markdown",
   "metadata": {},
   "source": [
    "# Feature Engineering / Pre-Processing"
   ]
  },
  {
   "cell_type": "code",
   "execution_count": 14,
   "metadata": {
    "collapsed": false
   },
   "outputs": [],
   "source": []
  },
  {
   "cell_type": "code",
   "execution_count": 41,
   "metadata": {
    "collapsed": false
   },
   "outputs": [],
   "source": [
    "svd = decomposition.TruncatedSVD(n_components=700,random_state=42)"
   ]
  },
  {
   "cell_type": "code",
   "execution_count": 39,
   "metadata": {
    "collapsed": false
   },
   "outputs": [],
   "source": [
    "pca = decomposition.PCA(n_components=0.90)"
   ]
  },
  {
   "cell_type": "code",
   "execution_count": 46,
   "metadata": {
    "collapsed": false
   },
   "outputs": [
    {
     "data": {
      "text/plain": [
       "13048"
      ]
     },
     "execution_count": 46,
     "metadata": {},
     "output_type": "execute_result"
    }
   ],
   "source": [
    "count = []\n",
    "for name,series in X_scaled.iteritems():\n",
    "    if(series.sum() < 500):\n",
    "        count += [name]\n",
    "len(count)"
   ]
  },
  {
   "cell_type": "code",
   "execution_count": 47,
   "metadata": {
    "collapsed": false
   },
   "outputs": [
    {
     "data": {
      "text/plain": [
       "(20104, 13049)"
      ]
     },
     "execution_count": 47,
     "metadata": {},
     "output_type": "execute_result"
    }
   ],
   "source": [
    "temp = pd.DataFrame(X[count])\n",
    "temp[13627] = temp.sum(axis=1)\n",
    "temp.shape"
   ]
  },
  {
   "cell_type": "markdown",
   "metadata": {},
   "source": [
    "# Naive Bayes (Gaussian and Multinomial)"
   ]
  },
  {
   "cell_type": "code",
   "execution_count": 49,
   "metadata": {
    "collapsed": false
   },
   "outputs": [
    {
     "name": "stdout",
     "output_type": "stream",
     "text": [
      "0.429238884702\n",
      "0.188997739261\n",
      "0.0795779954785\n",
      "0.503391107762\n"
     ]
    }
   ],
   "source": [
    "X_train,X_test,y_train,y_test = cross_validation.train_test_split(temp, y, test_size=0.33, random_state=42)\n",
    "\n",
    "nb = naive_bayes.GaussianNB()\n",
    "mnb = naive_bayes.MultinomialNB()\n",
    "\n",
    "raw_pipe = Pipeline([(\"naive_bayes\",nb)])\n",
    "pca_pipe = Pipeline([(\"pca\",pca),(\"naive_bayes\", nb)])\n",
    "svd_pipe = Pipeline([(\"svd\",svd),(\"naive_bayes\",nb)])\n",
    "raw_pipe_mnb = Pipeline([(\"naive_bayes\",mnb)])\n",
    "pipes = [raw_pipe,pca_pipe,svd_pipe,raw_pipe_mnb]\n",
    "for pipeline in pipes:\n",
    "    print(pipeline.fit(X_train,y_train.as_matrix().ravel()).score(X_test,y_test))"
   ]
  },
  {
   "cell_type": "markdown",
   "metadata": {
    "collapsed": true
   },
   "source": [
    "# Multinomial Naive Bayes"
   ]
  },
  {
   "cell_type": "markdown",
   "metadata": {},
   "source": [
    "# Decision Tree"
   ]
  },
  {
   "cell_type": "markdown",
   "metadata": {},
   "source": [
    "# SVM - Linear Kernel"
   ]
  },
  {
   "cell_type": "markdown",
   "metadata": {
    "collapsed": true
   },
   "source": [
    "# Random Forest"
   ]
  },
  {
   "cell_type": "code",
   "execution_count": 3,
   "metadata": {
    "collapsed": true
   },
   "outputs": [],
   "source": [
    "def build_model(data):\n",
    "    \"\"\"\n",
    "    This function builds tree from Pandas Data Frame with last column as the dependent feature\n",
    "    \"\"\"\n",
    "    attributes = list(data.columns.values)\n",
    "    target = attributes[-1]\n",
    "    classes = nb.get_attribute_values(data,target)\n",
    "    class_frequency = data[target].value_counts().sort_index()\n",
    "    betak = [2]*len(classes)\n",
    "    betam = (100/class_frequency + 1).astype(int)\n",
    "    return nb.NaiveBayesMAP(data,target,betak,betam)"
   ]
  },
  {
   "cell_type": "code",
   "execution_count": 11,
   "metadata": {
    "collapsed": false
   },
   "outputs": [
    {
     "name": "stdout",
     "output_type": "stream",
     "text": [
      "Data Read and Loaded\n"
     ]
    },
    {
     "data": {
      "text/plain": [
       "84    1\n",
       "55    1\n",
       "66    1\n",
       "67    1\n",
       "45    1\n",
       "39    6\n",
       "22    1\n",
       "44    1\n",
       "10    1\n",
       "0     1\n",
       "18    4\n",
       "30    6\n",
       "97    6\n",
       "33    2\n",
       "77    7\n",
       "4     1\n",
       "93    1\n",
       "78    2\n",
       "12    4\n",
       "31    1\n",
       "76    3\n",
       "89    5\n",
       "26    5\n",
       "42    6\n",
       "70    1\n",
       "15    7\n",
       "40    6\n",
       "72    7\n",
       "9     1\n",
       "96    1\n",
       "11    2\n",
       "91    3\n",
       "64    1\n",
       "28    1\n",
       "Name: type, dtype: int64"
      ]
     },
     "execution_count": 11,
     "metadata": {},
     "output_type": "execute_result"
    }
   ],
   "source": [
    "data =  pd.read_csv('../zoo.csv');\n",
    "    del data['animalname']\n",
    "    print(\"Data Read and Loaded\")\n",
    "    X_train, X_valid =  cross_validation.train_test_split(data, test_size=0.33, random_state=42)\n",
    "    model = build_model(X_train)\n",
    "    actuals = X_valid.type\n",
    "    del X_valid['type']\n",
    "    preds = nb.predict(model,X_valid)\n",
    "    print(\"Classification Accuracy is \" + str(accuracy_score(actuals,preds)))"
   ]
  },
  {
   "cell_type": "code",
   "execution_count": null,
   "metadata": {
    "collapsed": true
   },
   "outputs": [],
   "source": []
  }
 ],
 "metadata": {
  "kernelspec": {
   "display_name": "Python 3",
   "language": "python",
   "name": "python3"
  },
  "language_info": {
   "codemirror_mode": {
    "name": "ipython",
    "version": 3
   },
   "file_extension": ".py",
   "mimetype": "text/x-python",
   "name": "python",
   "nbconvert_exporter": "python",
   "pygments_lexer": "ipython3",
   "version": "3.5.1"
  }
 },
 "nbformat": 4,
 "nbformat_minor": 0
}
